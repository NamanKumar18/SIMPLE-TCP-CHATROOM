{
 "cells": [
  {
   "cell_type": "markdown",
   "id": "9718ce33",
   "metadata": {},
   "source": [
    "<h1 align=center>Some basic Networking concepts used:</h1>\n",
    "\n",
    "---\n",
    "\n",
    "### 1. **Socket:** \n",
    "* A socket is the end-point in a flow of communication between two programs or communication channels operating over a network. \n",
    "* They are created using a set of programming requests called socket API (Application Programming Interface).\n",
    "* Sockets use protocols for determining the connection type for port-to-port communication between client and server machines.\n",
    "\n",
    "### 2. **Socket Programming:** \n",
    "* It helps us to connect a client to a server. \n",
    "* _Client_ is message sender and receiver and _server_ is just a listener that works on data sent by client.\n",
    "\n",
    "##### After you defined the socket, you can use several methods to manage the connections. Some of the important server socket methods are:\n",
    "\n",
    "> listen(): is used to establish and start TCP listener.\n",
    "\n",
    "> bind(): is used to bind-address (host-name, port number) to the socket.\n",
    "\n",
    "> accept(): is used to TCP client connection until the connection arrives.\n",
    "\n",
    "> connect(): is used to initiate TCP server connection.\n",
    "\n",
    "> send(): is used to send TCP messages.\n",
    "\n",
    "> recv(): is used to receive TCP messages.\n",
    "\n",
    "> sendto(): is used to send UDP messages\n",
    "\n",
    "> close(): is used to close a socket.\n",
    "\n",
    "###  **Thread:**\n",
    "*  A thread is a single sequential flow of control within a program. ... As a sequential flow of control\n",
    "* A thread is similar to the sequential programs described previously. A single thread also has a beginning, a   sequence, and an end. At any given time during the runtime of the thread, there is a single point of execution. However, a thread itself is not a program; a thread cannot run on its own. Rather, it runs within a program.\n",
    "\n",
    "---\n",
    "|we send encoded data and then decode the received data as it ensure security as well as maintains a fast data transfer rate being more computer readable.|\n",
    "---"
   ]
  },
  {
   "cell_type": "markdown",
   "id": "5407c28c",
   "metadata": {},
   "source": [
    "---\n",
    "<h1 align=center>Source Code:</h1>\n",
    "\n",
    "---\n"
   ]
  },
  {
   "cell_type": "code",
   "execution_count": null,
   "id": "63451db3",
   "metadata": {},
   "outputs": [],
   "source": [
    "import threading as thrd\n",
    "import socket as skt"
   ]
  },
  {
   "cell_type": "markdown",
   "id": "955c4069",
   "metadata": {},
   "source": [
    "- Socket programming is a way of connecting two nodes on a network to communicate with each other. One socket(node) listens on a particular port at an IP, while the other socket reaches out to the other to form a connection. The server forms the listener socket while the client reaches out to the server. \n",
    "- Python threading allows you to have different parts of your program run concurrently and can simplify your design, i.e. Multi Threading."
   ]
  },
  {
   "cell_type": "code",
   "execution_count": null,
   "id": "884d27ec",
   "metadata": {},
   "outputs": [],
   "source": [
    "host = \"192.168.56.1\" #localhost\n",
    "port = 15151\n",
    "srvr = skt.socket(skt.AF_INET, skt.SOCK_STREAM)"
   ]
  },
  {
   "cell_type": "markdown",
   "id": "0fb62da1",
   "metadata": {},
   "source": [
    "Here we made a socket instance and passed it two parameters. \n",
    "The first parameter is **AF_INET** and the second one is **SOCK_STREAM**. \n",
    "- AF_INET refers to the address-family ipv4(An address family provides basic services to the protocol implementation to allow it to function within a specific network environment). \n",
    "- The SOCK_STREAM means connection-oriented TCP protocol. "
   ]
  },
  {
   "cell_type": "code",
   "execution_count": null,
   "id": "66bfbfa4",
   "metadata": {},
   "outputs": [],
   "source": [
    "srvr.bind((host, port))\n",
    "srvr.listen()"
   ]
  },
  {
   "cell_type": "markdown",
   "id": "b3e9174f",
   "metadata": {},
   "source": [
    "- listen(): is used to establish and start TCP listener.(starts listening for incoming data)\n",
    "- bind(): is used to bind-address (host-name, port number) to the socket.\n"
   ]
  },
  {
   "cell_type": "code",
   "execution_count": null,
   "id": "58f119a2",
   "metadata": {},
   "outputs": [],
   "source": [
    "clients = []\n",
    "usernames = []"
   ]
  },
  {
   "cell_type": "markdown",
   "id": "a5e71cd7",
   "metadata": {},
   "source": [
    "The _broadcast()_ method sends messages to all the clients currently connected to server."
   ]
  },
  {
   "cell_type": "code",
   "execution_count": null,
   "id": "f7ea9846",
   "metadata": {},
   "outputs": [],
   "source": [
    "def broadcast(message):\n",
    "    for client in clients:\n",
    "        client.send(message)"
   ]
  },
  {
   "cell_type": "markdown",
   "id": "95d421e7",
   "metadata": {},
   "source": [
    "The _handle()_ method recieves messages from clients, process and then send to other clients"
   ]
  },
  {
   "cell_type": "code",
   "execution_count": null,
   "id": "9140f5c7",
   "metadata": {},
   "outputs": [],
   "source": [
    "def handle(client):\n",
    "    while True: #endless loop\n",
    "        try: #as long as there's no exception\n",
    "            message  = client.recv(1024) #recieve message from client\n",
    "            broadcast(message) #then broadcast this message to all clients including sender \n",
    "        except: #when there's an exception\n",
    "            index =  clients.index(client) #find the index of that client in the list \n",
    "            clients.remove(client) #remove that client from the list and close it's connection\n",
    "            client.close()\n",
    "            username =  usernames[index]\n",
    "            usernames.remove[username]\n",
    "            broadcast(f'{username} has left the chat!'.encode('ascii'))\n",
    "            break"
   ]
  },
  {
   "cell_type": "markdown",
   "id": "2794215d",
   "metadata": {},
   "source": [
    "The _recieve()_ method combines all the above methods in one"
   ]
  },
  {
   "cell_type": "code",
   "execution_count": null,
   "id": "3d5836d0",
   "metadata": {},
   "outputs": [],
   "source": [
    "def receive():\n",
    "    while True:\n",
    "        client, address = srvr.accept() #accept connection and return client, address\n",
    "        print((\"->{} connected!\". format(str(address))).center(50))\n",
    "        \n",
    "        client.send(\"Choose a username...\".encode('ascii'))\n",
    "        username = client.recv(1024).decode('ascii')\n",
    "        usernames.append(username)\n",
    "        clients.append(client)\n",
    "        \n",
    "        print((\"Username of {0} is {1}\".format(address, username)).center(50))\n",
    "        broadcast(f'{username} joined the chat!'.encode('ascii'))\n",
    "        client.send(\"You are connected to the Server!\".encode('ascii'))\n",
    "        \n",
    "        thread = thrd.Thread(target= handle, args =(client,))\n",
    "        thread.start()"
   ]
  },
  {
   "cell_type": "code",
   "execution_count": null,
   "id": "b757a314",
   "metadata": {},
   "outputs": [],
   "source": [
    "print(\"->Server is listening...\".center(50))"
   ]
  },
  {
   "cell_type": "code",
   "execution_count": null,
   "id": "2d1ac14d",
   "metadata": {},
   "outputs": [],
   "source": [
    "receive()"
   ]
  }
 ],
 "metadata": {
  "kernelspec": {
   "display_name": "Python 3 (ipykernel)",
   "language": "python",
   "name": "python3"
  },
  "language_info": {
   "codemirror_mode": {
    "name": "ipython",
    "version": 3
   },
   "file_extension": ".py",
   "mimetype": "text/x-python",
   "name": "python",
   "nbconvert_exporter": "python",
   "pygments_lexer": "ipython3",
   "version": "3.9.7"
  }
 },
 "nbformat": 4,
 "nbformat_minor": 5
}
